{
 "cells": [
  {
   "cell_type": "markdown",
   "metadata": {},
   "source": [
    "Ques 1. How do you distinguish between shutil.copy() and shutil.copytree()?\n",
    "\n",
    "Answer: The shutil. copy() function will copy a single file, while shutil. copytree() will copy an entire folder, along with all its contents.\n",
    "\n",
    "Ques 2. What function is used to rename files??\n",
    "\n",
    "Answer: os. rename() method in Python is used to rename a file or directory.\n",
    "\n",
    "Ques 3. What is the difference between the delete functions in the send2trash and shutil modules?\n",
    "\n",
    "Answer: The send2trash functions will move a file or folder to the recycle bin, while shutil functions will permanently delete files and folders.\n",
    "\n",
    "Ques 4. ZipFile objects have a close() method just like File objects’ close() method. What ZipFile method is equivalent to File objects’ open() method?\n",
    "\n",
    "Answer: The zipfile.ZipFile() function is equivalent to the open() function; the first argument is the filename, and the second argument is the mode to open the ZIP file in (read, write, or append).\n",
    "\n",
    "Ques 5. Create a programme that searches a folder tree for files with a certain file extension (such as .pdf or .jpg). Copy these files from whatever location they are in to a new folder."
   ]
  },
  {
   "cell_type": "code",
   "execution_count": null,
   "metadata": {},
   "outputs": [],
   "source": []
  }
 ],
 "metadata": {
  "kernelspec": {
   "display_name": "Python 3",
   "language": "python",
   "name": "python3"
  },
  "language_info": {
   "name": "python",
   "version": "3.11.9"
  }
 },
 "nbformat": 4,
 "nbformat_minor": 2
}
