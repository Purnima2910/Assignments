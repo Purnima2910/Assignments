{
 "cells": [
  {
   "cell_type": "markdown",
   "metadata": {},
   "source": [
    "Ques 1. Is the Python Standard Library included with PyInputPlus?\n",
    "\n",
    "Answer PyInputPlus is a Python module used for taking inputs with additional validation features. PyInputPlus will keep asking the user for text until they enter valid input.\n",
    "\n",
    "Installation: pip install PyInputPlus"
   ]
  },
  {
   "cell_type": "markdown",
   "metadata": {},
   "source": [
    "Ques 2. Why is PyInputPlus commonly imported with import pyinputplus as pypi?\n",
    "\n",
    "Answer: We can import the module with import pyinputplus as pyip so that we can enter a shorter name when calling the module’s functions.\n",
    "\n",
    "PyInputPlus has functions for entering a variety of input, including strings, numbers, dates, yes/no, True/False, emails, and files. While input() always returns a string, these functions return the value in an appropriate data type. The inputChoice() function allows us to select one of several pre-selected options, while inputMenu() also adds numbers or letters for quick selection."
   ]
  },
  {
   "cell_type": "markdown",
   "metadata": {},
   "source": [
    "Ques 3. How do you distinguish between inputInt() and inputFloat()?\n",
    "\n",
    "Answer: inputInt() : Accepts an integer value. This also takes additional parameters ‘min’, ‘max’, ‘greaterThan’ and ‘lessThan’ for bounds. Returns an int.\n",
    "\n",
    "inputFloat() : Accepts a floating-point numeric value. Also takes additional ‘min’, ‘max’, ‘greaterThan’ and ‘lessThan’ parameters. Returns a float."
   ]
  },
  {
   "cell_type": "markdown",
   "metadata": {},
   "source": [
    "Ques 4. Using PyInputPlus, how do you ensure that the user enters a whole number between 0 and 99?"
   ]
  },
  {
   "cell_type": "code",
   "execution_count": 1,
   "metadata": {},
   "outputs": [
    {
     "name": "stdout",
     "output_type": "stream",
     "text": [
      "Collecting pyinputplus\n",
      "  Downloading PyInputPlus-0.2.12.tar.gz (20 kB)\n",
      "  Installing build dependencies: started\n",
      "  Installing build dependencies: finished with status 'done'\n",
      "  Getting requirements to build wheel: started\n",
      "  Getting requirements to build wheel: finished with status 'done'\n",
      "  Installing backend dependencies: started\n",
      "  Installing backend dependencies: finished with status 'done'\n",
      "  Preparing metadata (pyproject.toml): started\n",
      "  Preparing metadata (pyproject.toml): finished with status 'done'\n",
      "Collecting pysimplevalidate>=0.2.7 (from pyinputplus)\n",
      "  Downloading PySimpleValidate-0.2.12.tar.gz (22 kB)\n",
      "  Installing build dependencies: started\n",
      "  Installing build dependencies: finished with status 'done'\n",
      "  Getting requirements to build wheel: started\n",
      "  Getting requirements to build wheel: finished with status 'done'\n",
      "  Installing backend dependencies: started\n",
      "  Installing backend dependencies: finished with status 'done'\n",
      "  Preparing metadata (pyproject.toml): started\n",
      "  Preparing metadata (pyproject.toml): finished with status 'done'\n",
      "Collecting stdiomask>=0.0.3 (from pyinputplus)\n",
      "  Downloading stdiomask-0.0.6.tar.gz (3.6 kB)\n",
      "  Installing build dependencies: started\n",
      "  Installing build dependencies: finished with status 'done'\n",
      "  Getting requirements to build wheel: started\n",
      "  Getting requirements to build wheel: finished with status 'done'\n",
      "  Installing backend dependencies: started\n",
      "  Installing backend dependencies: finished with status 'done'\n",
      "  Preparing metadata (pyproject.toml): started\n",
      "  Preparing metadata (pyproject.toml): finished with status 'done'\n",
      "Building wheels for collected packages: pyinputplus, pysimplevalidate, stdiomask\n",
      "  Building wheel for pyinputplus (pyproject.toml): started\n",
      "  Building wheel for pyinputplus (pyproject.toml): finished with status 'done'\n",
      "  Created wheel for pyinputplus: filename=PyInputPlus-0.2.12-py3-none-any.whl size=11319 sha256=6fee199916ba2bd60b998ccbae959f72f811ee9f39c6dd0e38751f670309adda\n",
      "  Stored in directory: c:\\users\\divya\\appdata\\local\\packages\\pythonsoftwarefoundation.python.3.11_qbz5n2kfra8p0\\localcache\\local\\pip\\cache\\wheels\\a3\\6b\\89\\3bec14288af8e0729d088fb41a785e583d49e772f2529c7676\n",
      "  Building wheel for pysimplevalidate (pyproject.toml): started\n",
      "  Building wheel for pysimplevalidate (pyproject.toml): finished with status 'done'\n",
      "  Created wheel for pysimplevalidate: filename=PySimpleValidate-0.2.12-py3-none-any.whl size=16204 sha256=82c8525cfd6ac0922f42bfcf34f1f9b163fef0b1c4ed747438f099440ea8af14\n",
      "  Stored in directory: c:\\users\\divya\\appdata\\local\\packages\\pythonsoftwarefoundation.python.3.11_qbz5n2kfra8p0\\localcache\\local\\pip\\cache\\wheels\\fc\\40\\7a\\4d3b2dc2e80b4b3bbda89eec94fcefd6c8bd1101cc7bb89554\n",
      "  Building wheel for stdiomask (pyproject.toml): started\n",
      "  Building wheel for stdiomask (pyproject.toml): finished with status 'done'\n",
      "  Created wheel for stdiomask: filename=stdiomask-0.0.6-py3-none-any.whl size=3321 sha256=396282d45632bd6f0b9ac321148392cb45c939b707ca7a14472d77af591574b7\n",
      "  Stored in directory: c:\\users\\divya\\appdata\\local\\packages\\pythonsoftwarefoundation.python.3.11_qbz5n2kfra8p0\\localcache\\local\\pip\\cache\\wheels\\19\\0c\\90\\5ee0da7cf06ff7e233f273063797785d5eabf0ab9f04220866\n",
      "Successfully built pyinputplus pysimplevalidate stdiomask\n",
      "Installing collected packages: stdiomask, pysimplevalidate, pyinputplus\n",
      "Successfully installed pyinputplus-0.2.12 pysimplevalidate-0.2.12 stdiomask-0.0.6\n",
      "Note: you may need to restart the kernel to use updated packages.\n"
     ]
    }
   ],
   "source": [
    "pip install pyinputplus"
   ]
  },
  {
   "cell_type": "code",
   "execution_count": 2,
   "metadata": {},
   "outputs": [
    {
     "name": "stdout",
     "output_type": "stream",
     "text": [
      "Number must be less than 100.\n",
      "25\n"
     ]
    }
   ],
   "source": [
    "import pyinputplus as pyip\n",
    "\n",
    "inp = pyip.inputNum(prompt='', default=0, greaterThan=0, lessThan=100)\n",
    "  \n",
    "print(inp)"
   ]
  },
  {
   "cell_type": "markdown",
   "metadata": {},
   "source": [
    "Ques 5. What is transferred to the keyword arguments allowRegexes and blockRegexes?\n",
    "\n",
    "Answer: def inputNum(prompt='', default=None, blank=False, timeout=None, limit=None, strip=None, allowRegexes=None, blockRegexes=None, applyFunc=None, postValidateApplyFunc=None, min=None, max=None, greaterThan=None, lessThan=None)\n",
    "\n",
    "Certain inputs can be blocked (that is, these values are invalidated) by setting the blockRegexes parameter’s value as the regex pattern we want to invalidate viceversa for allowRegexes."
   ]
  },
  {
   "cell_type": "code",
   "execution_count": 3,
   "metadata": {},
   "outputs": [
    {
     "name": "stdout",
     "output_type": "stream",
     "text": [
      "Enter a string... PURNIMA\n"
     ]
    }
   ],
   "source": [
    "import pyinputplus as pyip\n",
    "inp = pyip.inputStr(prompt=\"Enter a string... \",\n",
    "\t\t\t\t\tblank=True, blockRegexes = 'aeiou') #strIng with vowels will be invalidated\n",
    "\n",
    "print(inp)"
   ]
  },
  {
   "cell_type": "markdown",
   "metadata": {},
   "source": [
    "Ques 6. If a blank input is entered three times, what does inputStr(limit=3) do?\n",
    "\n",
    "Answer: inputStr() raises a TimeoutException exception. If the user answers incorrectly more than 3 times, it raises a RetryLimitException exception."
   ]
  },
  {
   "cell_type": "markdown",
   "metadata": {},
   "source": [
    "Ques 7. If blank input is entered three times, what does inputStr(limit=3, default='hello') do?\n",
    "\n",
    "Answer: If the user answers incorrectly more than 3 times, then default value Hello will be printed."
   ]
  },
  {
   "cell_type": "code",
   "execution_count": 4,
   "metadata": {},
   "outputs": [
    {
     "name": "stdout",
     "output_type": "stream",
     "text": [
      "Blank values are not allowed.\n",
      "Blank values are not allowed.\n",
      "Blank values are not allowed.\n",
      "hello\n"
     ]
    }
   ],
   "source": [
    "\n",
    "import pyinputplus as pyip\n",
    "inp = pyip.inputStr(limit=3, default='hello') #strung with vowels will be invalidated\n",
    "\n",
    "print(inp)\n",
    "     "
   ]
  },
  {
   "cell_type": "markdown",
   "metadata": {},
   "source": []
  },
  {
   "cell_type": "markdown",
   "metadata": {},
   "source": []
  }
 ],
 "metadata": {
  "kernelspec": {
   "display_name": "Python 3",
   "language": "python",
   "name": "python3"
  },
  "language_info": {
   "codemirror_mode": {
    "name": "ipython",
    "version": 3
   },
   "file_extension": ".py",
   "mimetype": "text/x-python",
   "name": "python",
   "nbconvert_exporter": "python",
   "pygments_lexer": "ipython3",
   "version": "3.11.9"
  }
 },
 "nbformat": 4,
 "nbformat_minor": 2
}
