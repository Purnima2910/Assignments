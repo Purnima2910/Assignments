{
 "cells": [
  {
   "cell_type": "markdown",
   "metadata": {},
   "source": [
    "1. In the below elements which of them are values or an expression? \n",
    "eg:- values can be integer or string and expressions will be mathematical operators.\n",
    "\n",
    "*            - expression\n",
    "'hello'      - values\n",
    "-87.8        - values\n",
    "-            - expression\n",
    "/            - expression\n",
    "+\t         - expression\n",
    "6            - values"
   ]
  },
  {
   "cell_type": "markdown",
   "metadata": {},
   "source": [
    "2. What is the difference between string and variable?\n",
    "\n",
    "string - A string is a sequence of one or more characters. It can be letters or/and numbers or and symbols. \n",
    "variable -  Variables are symbols that you can use to store data in a program. Strings are data we use to fill up a variable. also a variable can contain numbers or special charater but it should be followed by any variable only. Only numbers or special charater cannot be a variable. Eg. sky, a, vffg, pur10, pur_10 etc but it cannot be 10,3455, @, ** etc"
   ]
  },
  {
   "cell_type": "markdown",
   "metadata": {},
   "source": [
    "3. Describe three different data types.\n",
    "\n",
    "1. Integer data types- there are 3 different interger data types, \n",
    "   that are int data type (eg-2,53,2345), float data type (eg- 3.14, 2.0,99.80), complex data type (eg- 1+2j))\n",
    "2. String data types- A string (str) is a sequence of one or more characters. It can be letters or/and numbers or and symbols.\n",
    "3. Sequence data types- Sequences allow you to store multiple values. there are different types of sequence data types,\n",
    "    that are- strings (eg.- \"ineuron\"), list (eg.- [1,45, \"abc\", 3.14]), tuples (3,56,\"sky\", 2.01), range (eg. (0, n)) etc "
   ]
  },
  {
   "cell_type": "markdown",
   "metadata": {},
   "source": [
    " 4. What is an expression made up of? What do all expressions do?\n",
    "\n",
    "An expression is a combination of values, variables, and operators that evaluates to a single value. \n",
    "Expressions persoms several functions which are as below-\n",
    "1. +\tx + y\tAddition\n",
    "2. –\tx – y\tSubtraction\n",
    "3. *\tx * y\tMultiplication\n",
    "4. /\tx / y\tDivision\n",
    "5. //\tx // y\tQuotient\n",
    "6. %\tx % y\tRemainder"
   ]
  },
  {
   "cell_type": "markdown",
   "metadata": {},
   "source": [
    "5. This assignment statements, like spam = 10. What is the difference between an expression and a statement?\n",
    "\n",
    "- Statements are instructions that perform some sort of action, but do not produce any value.\n",
    "spam =10 is an assignment statement, here it assigns the value of 1 to variable \"spam\", but does not produce a value that can be used in further operations\n",
    "- Expressions are code constructs that evaluate to a value. For example, 1 + 2 is an expression that evaluates to the integer value 3,"
   ]
  },
  {
   "cell_type": "markdown",
   "metadata": {},
   "source": [
    "6. After running the following code, what does the variable bacon contain?"
   ]
  },
  {
   "cell_type": "code",
   "execution_count": 1,
   "metadata": {},
   "outputs": [
    {
     "data": {
      "text/plain": [
       "23"
      ]
     },
     "execution_count": 1,
     "metadata": {},
     "output_type": "execute_result"
    }
   ],
   "source": [
    "bacon = 22\n",
    "bacon + 1"
   ]
  },
  {
   "cell_type": "markdown",
   "metadata": {},
   "source": [
    "7. What should the values of the following two terms be?"
   ]
  },
  {
   "cell_type": "code",
   "execution_count": 2,
   "metadata": {},
   "outputs": [
    {
     "data": {
      "text/plain": [
       "'spamspamspam'"
      ]
     },
     "execution_count": 2,
     "metadata": {},
     "output_type": "execute_result"
    }
   ],
   "source": [
    "'spam' + 'spamspam'"
   ]
  },
  {
   "cell_type": "code",
   "execution_count": 3,
   "metadata": {},
   "outputs": [
    {
     "data": {
      "text/plain": [
       "'spamspamspam'"
      ]
     },
     "execution_count": 3,
     "metadata": {},
     "output_type": "execute_result"
    }
   ],
   "source": [
    "'spam' * 3"
   ]
  },
  {
   "cell_type": "markdown",
   "metadata": {},
   "source": [
    "8. Why is eggs a valid variable name while 100 is invalid?\n",
    "\n",
    "eggs is a string, and a string can be a variable\n",
    "100 is a number, and no number can be a variable "
   ]
  },
  {
   "cell_type": "markdown",
   "metadata": {},
   "source": [
    "9. What three functions can be used to get the integer, floating-point number, or string version of a value?\n",
    "\n",
    "The int(), float(), and str() functions will evaluate to the integer, floating-point number, and string versions of the value passed to them."
   ]
  },
  {
   "cell_type": "markdown",
   "metadata": {},
   "source": [
    "10. Why does this expression cause an error? How can you fix it?\n",
    "'I have eaten ' + 99 + ' burritos.'\n",
    "\n",
    "The expression causes an error because 99 is an integer, and only strings can be concatenated to other strings with the + operator"
   ]
  },
  {
   "cell_type": "code",
   "execution_count": 5,
   "metadata": {},
   "outputs": [
    {
     "data": {
      "text/plain": [
       "'I have eaten 99 burritos.'"
      ]
     },
     "execution_count": 5,
     "metadata": {},
     "output_type": "execute_result"
    }
   ],
   "source": [
    "'I have eaten ' + \"99\" + ' burritos.'"
   ]
  },
  {
   "cell_type": "code",
   "execution_count": 6,
   "metadata": {},
   "outputs": [
    {
     "data": {
      "text/plain": [
       "'I have eaten 99 burritos.'"
      ]
     },
     "execution_count": 6,
     "metadata": {},
     "output_type": "execute_result"
    }
   ],
   "source": [
    "'I have eaten ' + str(99) + ' burritos.'"
   ]
  }
 ],
 "metadata": {
  "language_info": {
   "name": "python"
  }
 },
 "nbformat": 4,
 "nbformat_minor": 2
}
